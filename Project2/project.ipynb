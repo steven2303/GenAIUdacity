{
 "cells": [
  {
   "cell_type": "markdown",
   "id": "51c23a64",
   "metadata": {},
   "source": [
    "# Custom Chatbot Project"
   ]
  },
  {
   "cell_type": "code",
   "execution_count": 135,
   "id": "ed5c2677",
   "metadata": {},
   "outputs": [],
   "source": [
    "import os\n",
    "import re\n",
    "import tiktoken\n",
    "import numpy as np\n",
    "import pandas as pd\n",
    "from openai import OpenAI\n",
    "pd.set_option('display.max_colwidth', None)"
   ]
  },
  {
   "cell_type": "code",
   "execution_count": 136,
   "id": "55e7d4b4",
   "metadata": {},
   "outputs": [],
   "source": [
    "df = pd.read_csv('data/character_descriptions.csv')"
   ]
  },
  {
   "cell_type": "code",
   "execution_count": 137,
   "id": "ba7d3862",
   "metadata": {},
   "outputs": [
    {
     "data": {
      "text/html": [
       "<div>\n",
       "<style scoped>\n",
       "    .dataframe tbody tr th:only-of-type {\n",
       "        vertical-align: middle;\n",
       "    }\n",
       "\n",
       "    .dataframe tbody tr th {\n",
       "        vertical-align: top;\n",
       "    }\n",
       "\n",
       "    .dataframe thead th {\n",
       "        text-align: right;\n",
       "    }\n",
       "</style>\n",
       "<table border=\"1\" class=\"dataframe\">\n",
       "  <thead>\n",
       "    <tr style=\"text-align: right;\">\n",
       "      <th></th>\n",
       "      <th>Name</th>\n",
       "      <th>Description</th>\n",
       "      <th>Medium</th>\n",
       "      <th>Setting</th>\n",
       "    </tr>\n",
       "  </thead>\n",
       "  <tbody>\n",
       "    <tr>\n",
       "      <th>0</th>\n",
       "      <td>Emily</td>\n",
       "      <td>A young woman in her early 20s, Emily is an aspiring actress and Alice's daughter. She has a bubbly personality and a quick wit, but struggles with self-doubt and insecurity. She's also in a relationship with George.</td>\n",
       "      <td>Play</td>\n",
       "      <td>England</td>\n",
       "    </tr>\n",
       "    <tr>\n",
       "      <th>1</th>\n",
       "      <td>Jack</td>\n",
       "      <td>A middle-aged man in his 40s, Jack is a successful businessman and Sarah's boss. He has a no-nonsense attitude, but is fiercely loyal to his friends and family. He's married to Alice.</td>\n",
       "      <td>Play</td>\n",
       "      <td>England</td>\n",
       "    </tr>\n",
       "  </tbody>\n",
       "</table>\n",
       "</div>"
      ],
      "text/plain": [
       "    Name  \\\n",
       "0  Emily   \n",
       "1   Jack   \n",
       "\n",
       "                                                                                                                                                                                                                Description  \\\n",
       "0  A young woman in her early 20s, Emily is an aspiring actress and Alice's daughter. She has a bubbly personality and a quick wit, but struggles with self-doubt and insecurity. She's also in a relationship with George.   \n",
       "1                                   A middle-aged man in his 40s, Jack is a successful businessman and Sarah's boss. He has a no-nonsense attitude, but is fiercely loyal to his friends and family. He's married to Alice.   \n",
       "\n",
       "  Medium  Setting  \n",
       "0   Play  England  \n",
       "1   Play  England  "
      ]
     },
     "execution_count": 137,
     "metadata": {},
     "output_type": "execute_result"
    }
   ],
   "source": [
    "df.head(2)"
   ]
  },
  {
   "cell_type": "markdown",
   "id": "01b8ef08",
   "metadata": {},
   "source": [
    "## 1. Choose a Dataset and Explain the Scenario\n",
    "\n",
    "For this project, I have chosen the dataset that contains information about characters, their descriptions, the medium they belong to, and the setting in which they develop. This dataset is appropriate for the following reasons:\n",
    "\n",
    "1. **Diversity and Variety of Characters**: The dataset covers characters from different media and various geographic and cultural environments, including a range of ages, professions, and personal characteristics. This diversity allows for comparative and contextual analysis of how characters and their descriptions vary by medium and setting.\n",
    "\n",
    "2. **Detailed Descriptions**: Each character has a detailed description that includes demographic aspects and personality traits.\n",
    "\n",
    "3. **Unique Context:** The dataset's unique context provides an opportunity to evaluate the ability of models like ChatGPT-3.5 turbo, which is trained on generic data, to improve responses to specific questions. This specific dataset will highlight the model's capacity to adapt and deliver nuanced answers based on the context provided.\n",
    "\n",
    "In summary, this dataset is suitable for the task due to its diversity, richness in details, and unique context. It allows approaching the task from multiple perspectives and extracting valuable insights about the creation and representation of characters in different media and settings."
   ]
  },
  {
   "cell_type": "markdown",
   "id": "8aff1430",
   "metadata": {},
   "source": [
    "## Data Wrangling\n",
    "\n",
    "TODO: In the cells below, load your chosen dataset into a `pandas` dataframe with a column named `\"text\"`. This column should contain all of your text data, separated into at least 20 rows."
   ]
  },
  {
   "cell_type": "code",
   "execution_count": 138,
   "id": "2a784c48",
   "metadata": {},
   "outputs": [],
   "source": [
    "df['text'] = df['Name'] + ' - ' + df['Description'] + ' - ' + df['Medium'] + ' - ' + df['Setting']"
   ]
  },
  {
   "cell_type": "code",
   "execution_count": 139,
   "id": "52f097f7",
   "metadata": {},
   "outputs": [
    {
     "data": {
      "text/html": [
       "<div>\n",
       "<style scoped>\n",
       "    .dataframe tbody tr th:only-of-type {\n",
       "        vertical-align: middle;\n",
       "    }\n",
       "\n",
       "    .dataframe tbody tr th {\n",
       "        vertical-align: top;\n",
       "    }\n",
       "\n",
       "    .dataframe thead th {\n",
       "        text-align: right;\n",
       "    }\n",
       "</style>\n",
       "<table border=\"1\" class=\"dataframe\">\n",
       "  <thead>\n",
       "    <tr style=\"text-align: right;\">\n",
       "      <th></th>\n",
       "      <th>Name</th>\n",
       "      <th>Description</th>\n",
       "      <th>Medium</th>\n",
       "      <th>Setting</th>\n",
       "      <th>text</th>\n",
       "    </tr>\n",
       "  </thead>\n",
       "  <tbody>\n",
       "    <tr>\n",
       "      <th>0</th>\n",
       "      <td>Emily</td>\n",
       "      <td>A young woman in her early 20s, Emily is an aspiring actress and Alice's daughter. She has a bubbly personality and a quick wit, but struggles with self-doubt and insecurity. She's also in a relationship with George.</td>\n",
       "      <td>Play</td>\n",
       "      <td>England</td>\n",
       "      <td>Emily - A young woman in her early 20s, Emily is an aspiring actress and Alice's daughter. She has a bubbly personality and a quick wit, but struggles with self-doubt and insecurity. She's also in a relationship with George. - Play - England</td>\n",
       "    </tr>\n",
       "    <tr>\n",
       "      <th>1</th>\n",
       "      <td>Jack</td>\n",
       "      <td>A middle-aged man in his 40s, Jack is a successful businessman and Sarah's boss. He has a no-nonsense attitude, but is fiercely loyal to his friends and family. He's married to Alice.</td>\n",
       "      <td>Play</td>\n",
       "      <td>England</td>\n",
       "      <td>Jack - A middle-aged man in his 40s, Jack is a successful businessman and Sarah's boss. He has a no-nonsense attitude, but is fiercely loyal to his friends and family. He's married to Alice. - Play - England</td>\n",
       "    </tr>\n",
       "  </tbody>\n",
       "</table>\n",
       "</div>"
      ],
      "text/plain": [
       "    Name  \\\n",
       "0  Emily   \n",
       "1   Jack   \n",
       "\n",
       "                                                                                                                                                                                                                Description  \\\n",
       "0  A young woman in her early 20s, Emily is an aspiring actress and Alice's daughter. She has a bubbly personality and a quick wit, but struggles with self-doubt and insecurity. She's also in a relationship with George.   \n",
       "1                                   A middle-aged man in his 40s, Jack is a successful businessman and Sarah's boss. He has a no-nonsense attitude, but is fiercely loyal to his friends and family. He's married to Alice.   \n",
       "\n",
       "  Medium  Setting  \\\n",
       "0   Play  England   \n",
       "1   Play  England   \n",
       "\n",
       "                                                                                                                                                                                                                                                text  \n",
       "0  Emily - A young woman in her early 20s, Emily is an aspiring actress and Alice's daughter. She has a bubbly personality and a quick wit, but struggles with self-doubt and insecurity. She's also in a relationship with George. - Play - England  \n",
       "1                                    Jack - A middle-aged man in his 40s, Jack is a successful businessman and Sarah's boss. He has a no-nonsense attitude, but is fiercely loyal to his friends and family. He's married to Alice. - Play - England  "
      ]
     },
     "execution_count": 139,
     "metadata": {},
     "output_type": "execute_result"
    }
   ],
   "source": [
    "df.head(2)"
   ]
  },
  {
   "cell_type": "code",
   "execution_count": 179,
   "id": "7792dd0a",
   "metadata": {},
   "outputs": [
    {
     "data": {
      "text/plain": [
       "(55, 7)"
      ]
     },
     "execution_count": 179,
     "metadata": {},
     "output_type": "execute_result"
    }
   ],
   "source": [
    "df.shape"
   ]
  },
  {
   "cell_type": "code",
   "execution_count": 180,
   "id": "eca42065",
   "metadata": {},
   "outputs": [],
   "source": [
    "# API SETTING\n",
    "client = OpenAI(\n",
    "    api_key=\"API-KEY\"\n",
    ")"
   ]
  },
  {
   "cell_type": "markdown",
   "id": "ec5df8a5",
   "metadata": {},
   "source": [
    "## Custom Query Completion\n",
    "\n",
    "TODO: In the cells below, compose a custom query using your chosen dataset and retrieve results from an OpenAI `Completion` model. You may copy and paste any useful code from the course materials."
   ]
  },
  {
   "cell_type": "code",
   "execution_count": 79,
   "id": "14e7d8fa",
   "metadata": {},
   "outputs": [],
   "source": [
    "COMPLETION_MODEL_NAME = \"gpt-3.5-turbo\"\n",
    "\n",
    "def get_chat_response(client, prompt):\n",
    "    chat_completion = client.chat.completions.create(\n",
    "        messages=[\n",
    "            {\n",
    "                \"role\": \"user\",\n",
    "                \"content\": prompt,\n",
    "            }\n",
    "        ],\n",
    "        model=COMPLETION_MODEL_NAME,\n",
    "    )\n",
    "    \n",
    "    response = chat_completion.choices[0].message.content\n",
    "    formatted_response = response.replace('\\\\n', '\\n')\n",
    "    return formatted_response"
   ]
  },
  {
   "cell_type": "code",
   "execution_count": 35,
   "id": "2275ead5",
   "metadata": {},
   "outputs": [],
   "source": [
    "def get_embedding(text, model=\"text-embedding-ada-002\"):\n",
    "    return client.embeddings.create(input = [text], model=model).data[0].embedding\n",
    "\n",
    "def cosine_similarity(embedding1, embedding2):\n",
    "    \"\"\"Calcula la similitud coseno entre dos embeddings.\"\"\"\n",
    "    embedding1 = np.array(embedding1)\n",
    "    embedding2 = np.array(embedding2)\n",
    "    dot_product = np.dot(embedding1, embedding2)\n",
    "    norm1 = np.linalg.norm(embedding1)\n",
    "    norm2 = np.linalg.norm(embedding2)\n",
    "    return dot_product / (norm1 * norm2)\n",
    "\n",
    "def get_rows_sorted_by_relevance(df, question, n=10, pprint=True):\n",
    "    embedding = get_embedding(question, model='text-embedding-ada-002')\n",
    "    df['similarities'] = df.ada_embedding.apply(lambda x: cosine_similarity(x, embedding))\n",
    "    res = df.sort_values('similarities', ascending=False).head(n)\n",
    "    return res\n",
    "\n",
    "def create_prompt(question, df, max_token_count):\n",
    "    \"\"\"\n",
    "    Given a question and a dataframe containing rows of text and their\n",
    "    embeddings, return a text prompt to send to a Completion model\n",
    "    \"\"\"\n",
    "    # Create a tokenizer that is designed to align with our embeddings\n",
    "    tokenizer = tiktoken.get_encoding(\"cl100k_base\")\n",
    "    \n",
    "    # Count the number of tokens in the prompt template and question\n",
    "    prompt_template = \"\"\"\n",
    "    Answer the question based on the context below, and if the question\n",
    "    can't be answered based on the context, say \"I don't know\"\n",
    "\n",
    "    Context: \n",
    "\n",
    "    {}\n",
    "\n",
    "    ---\n",
    "\n",
    "    Question: {}\n",
    "    Answer:\"\"\"\n",
    "    \n",
    "    current_token_count = len(tokenizer.encode(prompt_template)) + \\\n",
    "                            len(tokenizer.encode(question))\n",
    "    \n",
    "    context = []\n",
    "    for text in get_rows_sorted_by_relevance(df,question)[\"text\"].values:\n",
    "        \n",
    "        # Increase the counter based on the number of tokens in this row\n",
    "        text_token_count = len(tokenizer.encode(text))\n",
    "        current_token_count += text_token_count\n",
    "        \n",
    "        # Add the row of text to the list if we haven't exceeded the max\n",
    "        if current_token_count <= max_token_count:\n",
    "            context.append(text)\n",
    "        else:\n",
    "            break\n",
    "\n",
    "    return prompt_template.format(\"\\n\\n###\\n\\n\".join(context), question)"
   ]
  },
  {
   "cell_type": "code",
   "execution_count": 140,
   "id": "d23cc310",
   "metadata": {},
   "outputs": [],
   "source": [
    "df['ada_embedding'] = df.text.apply(lambda x: get_embedding(x, model=\"text-embedding-ada-002\"))"
   ]
  },
  {
   "cell_type": "code",
   "execution_count": 142,
   "id": "d841ca8d",
   "metadata": {},
   "outputs": [
    {
     "name": "stdout",
     "output_type": "stream",
     "text": [
      "\n",
      "    Answer the question based on the context below, and if the question\n",
      "    can't be answered based on the context, say \"I don't know\"\n",
      "\n",
      "    Context: \n",
      "\n",
      "    Emily - A young woman in her early 20s, Emily is an aspiring actress and Alice's daughter. She has a bubbly personality and a quick wit, but struggles with self-doubt and insecurity. She's also in a relationship with George. - Play - England\n",
      "\n",
      "###\n",
      "\n",
      "Alice - A woman in her late 30s, Alice is a warm and nurturing mother of two, including Emily. She's kind-hearted and empathetic, but can be overly protective of her children and prone to worrying. She's married to Jack. - Play - England\n",
      "\n",
      "###\n",
      "\n",
      "George - A man in his early 30s, George is a charming and charismatic businessman who is in a relationship with Emily. He's ambitious, confident, and always looking for the next big opportunity. However, he's also prone to bending the rules to get what he wants. - Play - England\n",
      "\n",
      "###\n",
      "\n",
      "Maria - A middle-aged Latina woman in her 40s, Maria is a hard-working single mother who owns a small family-run diner in a small Texas town. She's fiercely protective of her teenage daughter, Sofia, and is always trying to balance work and family. - Movie - Texas\n",
      "\n",
      "###\n",
      "\n",
      "Mia - A young Australian woman in her mid-20s, Mia is a driven and ambitious lawyer who's just landed her dream job at a top law firm in Sydney. She's the younger sister of Max, a former soldier who's struggling with PTSD, and is trying to help him navigate his challenges while also balancing her demanding career. - Limited Series - Australia\n",
      "\n",
      "###\n",
      "\n",
      "Mrs. Mercer - The matriarch of the wealthiest family in Williamsburg. Mrs. Mercer is a bit of a snob and enjoys reminding everyone of her social standing. She often hires Abigail to work in her home and is very demanding. - Sitcom - USA\n",
      "\n",
      "###\n",
      "\n",
      "Ava - A middle-aged Australian woman in her 50s, Ava is a successful fashion designer who's built an empire on her impeccable taste and attention to detail. She's elegant, sophisticated, and always knows what's in style. She's married to Lucas, but their marriage is strained due to his infidelity. She's also been a mentor to Tahlia, and has helped her navigate the art world. - Limited Series - Australia\n",
      "\n",
      "###\n",
      "\n",
      "Max - A white Australian man in his late 20s, Max is a former soldier who's struggling to adjust to civilian life after serving in Afghanistan. He's tough, no-nonsense, and has a strong sense of duty. He's the older brother of Mia, and they've always been close. He's also Ava's godson, and she's always been like a second mother to him. - Limited Series - Australia\n",
      "\n",
      "###\n",
      "\n",
      "Jack - A middle-aged man in his 40s, Jack is a successful businessman and Sarah's boss. He has a no-nonsense attitude, but is fiercely loyal to his friends and family. He's married to Alice. - Play - England\n",
      "\n",
      "###\n",
      "\n",
      "Sophia - A fun-loving and adventurous travel blogger, Sophia is always looking for her next big adventure. She's looking for someone who can join her on her travels and share in her love of exploration. She's a free spirit who isn't afraid to take risks and try new things. - Reality Show - USA\n",
      "\n",
      "    ---\n",
      "\n",
      "    Question: Who is Emely's Family?\n",
      "    Answer:\n"
     ]
    }
   ],
   "source": [
    "print(create_prompt(\"Who is Emely's Family?\", df, 1000))"
   ]
  },
  {
   "cell_type": "code",
   "execution_count": 143,
   "id": "9b7237cf",
   "metadata": {},
   "outputs": [],
   "source": [
    "def get_custom_query_response(question, df, max_prompt_tokens=1800, max_answer_tokens=400):\n",
    "    \"\"\"\n",
    "    Given a question, a dataframe containing rows of text, and a maximum\n",
    "    number of desired tokens in the prompt and response, return the\n",
    "    answer to the question according to an OpenAI Completion model\n",
    "    \n",
    "    If the model produces an error, return an empty string\n",
    "    \"\"\"\n",
    "    prompt = create_prompt(question,df, max_prompt_tokens)\n",
    "    try:\n",
    "        response = client.chat.completions.create(\n",
    "                    messages=[\n",
    "                        {\n",
    "                            \"role\": \"user\",\n",
    "                            \"content\": prompt,\n",
    "                        }\n",
    "                            ],\n",
    "                    model=COMPLETION_MODEL_NAME)\n",
    "        return response.choices[0].message.content.strip()\n",
    "    except Exception as e:\n",
    "        print(e)\n",
    "        return \"\""
   ]
  },
  {
   "cell_type": "markdown",
   "id": "c128ec7e",
   "metadata": {},
   "source": [
    "## Custom Performance Demonstration\n",
    "\n",
    "TODO: In the cells below, demonstrate the performance of your custom query using at least 2 questions. For each question, show the answer from a basic `Completion` model query as well as the answer from your custom query."
   ]
  },
  {
   "cell_type": "markdown",
   "id": "a23890ca",
   "metadata": {},
   "source": [
    "### Question 1: What are the pants trends in 2023?"
   ]
  },
  {
   "cell_type": "code",
   "execution_count": 144,
   "id": "5a908c23",
   "metadata": {},
   "outputs": [],
   "source": [
    "question1 = \"Who is Emely's Family?\"\n",
    "prompt = f\"\"\"\n",
    "    Question: \"{question1}\"\n",
    "    Answer:\n",
    "    \"\"\""
   ]
  },
  {
   "cell_type": "markdown",
   "id": "4f511e74",
   "metadata": {},
   "source": [
    "#### Default Response"
   ]
  },
  {
   "cell_type": "code",
   "execution_count": 145,
   "id": "9c828743",
   "metadata": {},
   "outputs": [
    {
     "data": {
      "text/plain": [
       "\"Emely's family includes her parents, siblings, grandparents, aunts, uncles, cousins, and any other relatives related to her through blood or marriage.\""
      ]
     },
     "execution_count": 145,
     "metadata": {},
     "output_type": "execute_result"
    }
   ],
   "source": [
    "get_chat_response(client,prompt)"
   ]
  },
  {
   "cell_type": "markdown",
   "id": "a4655e0e",
   "metadata": {},
   "source": [
    "#### Custom Prompt Response"
   ]
  },
  {
   "cell_type": "code",
   "execution_count": 147,
   "id": "9f786f66",
   "metadata": {},
   "outputs": [
    {
     "data": {
      "text/plain": [
       "\"Emily's family consists of her mother, Alice, and her father is not specifically mentioned, but she is in a relationship with George.\""
      ]
     },
     "execution_count": 147,
     "metadata": {},
     "output_type": "execute_result"
    }
   ],
   "source": [
    "get_custom_query_response(question1, df)"
   ]
  },
  {
   "cell_type": "markdown",
   "id": "380674d3",
   "metadata": {},
   "source": [
    "### Question 2: Who are the most intelligent characters and describe them?"
   ]
  },
  {
   "cell_type": "code",
   "execution_count": 172,
   "id": "6f8c7cd3",
   "metadata": {},
   "outputs": [],
   "source": [
    "question2 = \"Who are the most intelligent characters and describe them?\"\n",
    "prompt = f\"\"\"\n",
    "    Question: \"{question2}\"\n",
    "    Answer:\n",
    "    \"\"\""
   ]
  },
  {
   "cell_type": "markdown",
   "id": "00a6e15a",
   "metadata": {},
   "source": [
    "#### Default Response"
   ]
  },
  {
   "cell_type": "code",
   "execution_count": 173,
   "id": "5888aafe",
   "metadata": {},
   "outputs": [],
   "source": [
    "response = get_chat_response(client,prompt)"
   ]
  },
  {
   "cell_type": "code",
   "execution_count": 174,
   "id": "9cb03340",
   "metadata": {},
   "outputs": [
    {
     "name": "stdout",
     "output_type": "stream",
     "text": [
      "1. Sherlock Holmes - Sherlock Holmes is a consulting detective known for his keen observation and deduction skills. He is highly analytical and logical, often able to solve complex cases using his intelligence and attention to detail.\n",
      "\n",
      "2. Lisbeth Salander - Lisbeth Salander is a hacker and investigator with a photographic memory and a talent for uncovering secrets. She is resourceful, independent, and incredibly intelligent, often using her skills to outsmart her adversaries.\n",
      "\n",
      "3. Dr. Gregory House - Dr. House is a brilliant diagnostician with a knack for solving unusual medical cases. He is known for his unconventional methods and ability to think outside the box when it comes to diagnosing his patients.\n",
      "\n",
      "4. Hermione Granger - Hermione Granger is a witch with exceptional intelligence and a love for learning. She is known for her encyclopedic knowledge and quick thinking, often using her intelligence to help her friends out of difficult situations.\n",
      "\n",
      "5. Tyrion Lannister - Tyrion Lannister is a wily and cunning character in the Game of Thrones series. Despite his physical limitations, Tyrion relies on his intelligence, wit, and political acumen to navigate the dangerous world of Westeros.\n"
     ]
    }
   ],
   "source": [
    "print(response)"
   ]
  },
  {
   "cell_type": "markdown",
   "id": "ba5e0400",
   "metadata": {},
   "source": [
    "#### Custom Prompt Response"
   ]
  },
  {
   "cell_type": "code",
   "execution_count": 177,
   "id": "ec9689c4",
   "metadata": {},
   "outputs": [],
   "source": [
    "response = get_custom_query_response(question2, df)"
   ]
  },
  {
   "cell_type": "code",
   "execution_count": 178,
   "id": "35c6661d",
   "metadata": {},
   "outputs": [
    {
     "name": "stdout",
     "output_type": "stream",
     "text": [
      "Feste and John are the most intelligent characters. Feste, a jester and musician from the play set in Ancient Greece, uses his wit and intelligence to comment on the actions of other characters. John, a retired professor from the play set in England, has a dry wit and a love of intellectual debate. Both characters showcase their intelligence through their interactions and observations within their respective plays.\n"
     ]
    }
   ],
   "source": [
    "print(response)"
   ]
  },
  {
   "cell_type": "code",
   "execution_count": null,
   "id": "d42140cc",
   "metadata": {},
   "outputs": [],
   "source": []
  }
 ],
 "metadata": {
  "kernelspec": {
   "display_name": "Python [conda env:udacity]",
   "language": "python",
   "name": "conda-env-udacity-py"
  },
  "language_info": {
   "codemirror_mode": {
    "name": "ipython",
    "version": 3
   },
   "file_extension": ".py",
   "mimetype": "text/x-python",
   "name": "python",
   "nbconvert_exporter": "python",
   "pygments_lexer": "ipython3",
   "version": "3.9.19"
  }
 },
 "nbformat": 4,
 "nbformat_minor": 5
}
